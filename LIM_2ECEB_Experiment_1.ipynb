{
 "cells": [
  {
   "cell_type": "markdown",
   "id": "178900a1-58c1-4fa2-98ea-c2f37045cd4c",
   "metadata": {},
   "source": [
    "# Experiment 1 - Introduction to Python Programming\n",
    "### Name: Emmanuel Gabriel M. Lim\n",
    "### Section: 2ECE-B\n",
    "### Date: August 25, 2025\n",
    "### Subject Code: ECE2112"
   ]
  },
  {
   "cell_type": "markdown",
   "id": "8396a6d0-fbdb-40d4-99b3-9e9871bce8bc",
   "metadata": {},
   "source": [
    "## Alphabet Soup Problem\n",
    "\n",
    "Create a function that takes a string and returns a string with its letters in alphabetical order."
   ]
  },
  {
   "cell_type": "code",
   "execution_count": 45,
   "id": "cc00282b-b6b8-4fde-9428-25938a9318b0",
   "metadata": {},
   "outputs": [
    {
     "name": "stdin",
     "output_type": "stream",
     "text": [
      "Sort any text: Sir, tapos na po :D\n"
     ]
    },
    {
     "name": "stdout",
     "output_type": "stream",
     "text": [
      "    ,:DSaainoopprst\n"
     ]
    }
   ],
   "source": [
    "def alphabet_soup(t):                    #CREATE FUNCTION\n",
    "    print(''.join(sorted(t)))            #SIMULTANEOUSLY SORT AND PRINT LETTERS\n",
    "alphabet_soup(input(\"Sort any text:\"))   #TRIGGERS FUNCTION WITH USER INPUT"
   ]
  },
  {
   "cell_type": "markdown",
   "id": "6684d9dc-e411-477e-8f39-8c4a45634030",
   "metadata": {},
   "source": [
    "## Emoticon Problem\n",
    "Create a function that changes specific words into emoticons. Given a sentence\n",
    "as a string, replace the words smile, grin, sad and mad with their corresponding emoticon:"
   ]
  },
  {
   "cell_type": "code",
   "execution_count": 36,
   "id": "4fc5fff3-a735-4b3d-b6dc-d12a91ed4d38",
   "metadata": {},
   "outputs": [
    {
     "name": "stdout",
     "output_type": "stream",
     "text": [
      "\u001b[1mSAMPLE OUTPUT\u001b[0m\n",
      "Make me :)!\n",
      "I am :(.\n",
      "She gave me a :D.\n",
      "Engineering makes me :(.\n"
     ]
    }
   ],
   "source": [
    "import string                                                              #ENABLE STRING COMMANDS\n",
    "\n",
    "def emotify(t):                                                            #CREATE FUNCTION\n",
    "    emojis = {\"sad\": \":(\", \"grin\": \":D\", \"mad\": \">:(\", \"smile\": \":)\"}      #CREATES AN EMOTICON DICTIONARY\n",
    "    sentence = []                                                          #STORES THE EMOTIFIED WORDS\n",
    "    for word in t.split():                                                 #SPLITS THE SENTENCE THEN LOOPS FOR EVERY WORD\n",
    "        emojiKey = word.strip(string.punctuation)                          #SEPARATE WORD FROM PUNCTUATION              \n",
    "        emoji = emojis.get(emojiKey.lower(), emojiKey)                     #IF THE WORD MATCHES THE EMOTICON, IT IS STORED, OTHERWISE MAINTAINED\n",
    "        emotified_word = word.replace(emojiKey, emoji, 1)                  #REPLACE A WORD ONCE WITH EMOTICON\n",
    "        sentence.append(emotified_word)                                    #STORE WORD IN A TUPLE       \n",
    "    return \" \".join(sentence)                                              #RETURNS THE FINAL SENTENCE\n",
    "print(\"\\033[1mSAMPLE OUTPUT\\033[0m\")\n",
    "print(emotify(\"Make me smile!\"))\n",
    "print(emotify(\"I am sad.\"))\n",
    "print(emotify(\"She gave me a grin.\"))\n",
    "print(emotify(\"Engineering makes me sad.\"))"
   ]
  },
  {
   "cell_type": "code",
   "execution_count": 43,
   "id": "bf5c3c8a-c90c-4ab7-ae6b-a4ebe4e74592",
   "metadata": {},
   "outputs": [
    {
     "name": "stdin",
     "output_type": "stream",
     "text": [
      "Try it yourself:  Sir, tapos na po sMiLe GrIN SAD MaD\n"
     ]
    },
    {
     "name": "stdout",
     "output_type": "stream",
     "text": [
      "Output:  Sir, tapos na po :) :D :( >:(\n"
     ]
    }
   ],
   "source": [
    "print(\"Output: \", emotify(input(\"Try it yourself: \")))"
   ]
  },
  {
   "cell_type": "markdown",
   "id": "109413f2-c02e-4f9b-972f-c240353a93b0",
   "metadata": {},
   "source": [
    "## Unpacking List Problem\n",
    "Unpack the list writeyourcodehere into three variables, being first, middle, and last, with middle being everything in between the first and last element. Then print all three variables."
   ]
  },
  {
   "cell_type": "code",
   "execution_count": 44,
   "id": "c6c0097c-c1c3-42ec-a1ea-7c43f08b37ed",
   "metadata": {},
   "outputs": [
    {
     "name": "stdout",
     "output_type": "stream",
     "text": [
      "first: w\n",
      "middle: ['r', 'i', 't', 'e', 'y', 'o', 'u', 'r', 'c', 'o', 'd', 'e', 'h', 'e', 'r']\n",
      "last: e\n"
     ]
    }
   ],
   "source": [
    "t_list = list(\"writeyourcodehere\")              #TURN STRING INTO LIST\n",
    "first = t_list.pop(0)                           #REMOVE FIRST ELEMENT THEN STORE\n",
    "last = t_list.pop(-1)                           #REMOVE LAST ELEMENT THEN STORE\n",
    "middle = t_list                                 #STORE THE REMAINING LIST\n",
    "print(\"first:\", first)\n",
    "print(\"middle:\", middle)\n",
    "print(\"last:\", last)"
   ]
  }
 ],
 "metadata": {
  "kernelspec": {
   "display_name": "Python [conda env:base] *",
   "language": "python",
   "name": "conda-base-py"
  },
  "language_info": {
   "codemirror_mode": {
    "name": "ipython",
    "version": 3
   },
   "file_extension": ".py",
   "mimetype": "text/x-python",
   "name": "python",
   "nbconvert_exporter": "python",
   "pygments_lexer": "ipython3",
   "version": "3.13.5"
  }
 },
 "nbformat": 4,
 "nbformat_minor": 5
}
